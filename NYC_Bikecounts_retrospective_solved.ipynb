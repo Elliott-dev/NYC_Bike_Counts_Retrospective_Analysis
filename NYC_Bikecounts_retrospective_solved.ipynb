{
 "cells": [
  {
   "cell_type": "code",
   "execution_count": 1,
   "metadata": {},
   "outputs": [],
   "source": [
    "# Import the necessary dependencies.\n",
    "import numpy as np\n",
    "import pandas as pd\n",
    "import plotly.express as px\n",
    "import scipy.stats as sts\n",
    "import plotly.express as plt\n",
    "import statsmodels.api as sm"
   ]
  },
  {
   "cell_type": "markdown",
   "metadata": {},
   "source": [
    "## I will perform analysis of two questions:\n",
    "\n",
    "\n",
    "Question 1: Does a high temperature affect the number of bike trips across the Brooklyn Bridge?\n",
    "\n",
    "Question 2: Does the amount of precipitation affect the number of bike trips across the Brooklyn Bridge?"
   ]
  },
  {
   "cell_type": "code",
   "execution_count": 2,
   "metadata": {},
   "outputs": [
    {
     "data": {
      "text/html": [
       "<div>\n",
       "<style scoped>\n",
       "    .dataframe tbody tr th:only-of-type {\n",
       "        vertical-align: middle;\n",
       "    }\n",
       "\n",
       "    .dataframe tbody tr th {\n",
       "        vertical-align: top;\n",
       "    }\n",
       "\n",
       "    .dataframe thead th {\n",
       "        text-align: right;\n",
       "    }\n",
       "</style>\n",
       "<table border=\"1\" class=\"dataframe\">\n",
       "  <thead>\n",
       "    <tr style=\"text-align: right;\">\n",
       "      <th></th>\n",
       "      <th>Date</th>\n",
       "      <th>Day</th>\n",
       "      <th>High Temp (°F)</th>\n",
       "      <th>Low Temp (°F)</th>\n",
       "      <th>Precipitation</th>\n",
       "      <th>Brooklyn Bridge</th>\n",
       "      <th>Manhattan Bridge</th>\n",
       "      <th>Williamsburg Bridge</th>\n",
       "      <th>Queensboro Bridge</th>\n",
       "      <th>Total</th>\n",
       "    </tr>\n",
       "  </thead>\n",
       "  <tbody>\n",
       "    <tr>\n",
       "      <th>0</th>\n",
       "      <td>4/1/16</td>\n",
       "      <td>2016-04-01</td>\n",
       "      <td>78.1</td>\n",
       "      <td>66.0</td>\n",
       "      <td>0.01</td>\n",
       "      <td>1704</td>\n",
       "      <td>3126</td>\n",
       "      <td>4115</td>\n",
       "      <td>2552</td>\n",
       "      <td>11497</td>\n",
       "    </tr>\n",
       "    <tr>\n",
       "      <th>1</th>\n",
       "      <td>4/2/16</td>\n",
       "      <td>2016-04-02</td>\n",
       "      <td>55.0</td>\n",
       "      <td>48.9</td>\n",
       "      <td>0.15</td>\n",
       "      <td>827</td>\n",
       "      <td>1646</td>\n",
       "      <td>2565</td>\n",
       "      <td>1884</td>\n",
       "      <td>6922</td>\n",
       "    </tr>\n",
       "    <tr>\n",
       "      <th>2</th>\n",
       "      <td>4/3/16</td>\n",
       "      <td>2016-04-03</td>\n",
       "      <td>39.9</td>\n",
       "      <td>34.0</td>\n",
       "      <td>0.09</td>\n",
       "      <td>526</td>\n",
       "      <td>1232</td>\n",
       "      <td>1695</td>\n",
       "      <td>1306</td>\n",
       "      <td>4759</td>\n",
       "    </tr>\n",
       "    <tr>\n",
       "      <th>3</th>\n",
       "      <td>4/4/16</td>\n",
       "      <td>2016-04-04</td>\n",
       "      <td>44.1</td>\n",
       "      <td>33.1</td>\n",
       "      <td>0.47 (S)</td>\n",
       "      <td>521</td>\n",
       "      <td>1067</td>\n",
       "      <td>1440</td>\n",
       "      <td>1307</td>\n",
       "      <td>4335</td>\n",
       "    </tr>\n",
       "    <tr>\n",
       "      <th>4</th>\n",
       "      <td>4/5/16</td>\n",
       "      <td>2016-04-05</td>\n",
       "      <td>42.1</td>\n",
       "      <td>26.1</td>\n",
       "      <td>0</td>\n",
       "      <td>1416</td>\n",
       "      <td>2617</td>\n",
       "      <td>3081</td>\n",
       "      <td>2357</td>\n",
       "      <td>9471</td>\n",
       "    </tr>\n",
       "  </tbody>\n",
       "</table>\n",
       "</div>"
      ],
      "text/plain": [
       "     Date        Day  High Temp (°F)  Low Temp (°F) Precipitation  \\\n",
       "0  4/1/16 2016-04-01            78.1           66.0          0.01   \n",
       "1  4/2/16 2016-04-02            55.0           48.9          0.15   \n",
       "2  4/3/16 2016-04-03            39.9           34.0          0.09   \n",
       "3  4/4/16 2016-04-04            44.1           33.1      0.47 (S)   \n",
       "4  4/5/16 2016-04-05            42.1           26.1             0   \n",
       "\n",
       "   Brooklyn Bridge  Manhattan Bridge  Williamsburg Bridge  Queensboro Bridge  \\\n",
       "0             1704              3126                 4115               2552   \n",
       "1              827              1646                 2565               1884   \n",
       "2              526              1232                 1695               1306   \n",
       "3              521              1067                 1440               1307   \n",
       "4             1416              2617                 3081               2357   \n",
       "\n",
       "   Total  \n",
       "0  11497  \n",
       "1   6922  \n",
       "2   4759  \n",
       "3   4335  \n",
       "4   9471  "
      ]
     },
     "execution_count": 2,
     "metadata": {},
     "output_type": "execute_result"
    }
   ],
   "source": [
    "bikecounts_df = pd.read_csv(\"../Resources/bikecounts.csv\")\n",
    "bikecounts_df['Day'] = pd.to_datetime(bikecounts_df['Day'])\n",
    "bikecounts_df.head()"
   ]
  },
  {
   "cell_type": "markdown",
   "metadata": {},
   "source": [
    "## Question 1: Does a high temperature affect the number of bike trips across the Brooklyn Bridge?\n",
    "\n",
    "Hypothesis: Higher Temp has a relationship with how many people cross Brooklyn Bridge per day\n",
    "\n",
    "Null Hypothesis: High Temp has no association with how many people cross Brooklyn Bridge on bike\n",
    "\n",
    "Alternative Hypothesis: High Temp correlates with how many people cross Brooklyn Bridge on bike"
   ]
  },
  {
   "cell_type": "code",
   "execution_count": 3,
   "metadata": {},
   "outputs": [
    {
     "name": "stdout",
     "output_type": "stream",
     "text": [
      "                            OLS Regression Results                            \n",
      "==============================================================================\n",
      "Dep. Variable:        Brooklyn Bridge   R-squared:                       0.547\n",
      "Model:                            OLS   Adj. R-squared:                  0.530\n",
      "Method:                 Least Squares   F-statistic:                     33.77\n",
      "Date:                Tue, 05 Apr 2022   Prob (F-statistic):           3.05e-06\n",
      "Time:                        18:09:16   Log-Likelihood:                -237.29\n",
      "No. Observations:                  30   AIC:                             478.6\n",
      "Df Residuals:                      28   BIC:                             481.4\n",
      "Df Model:                           1                                         \n",
      "Covariance Type:            nonrobust                                         \n",
      "==================================================================================\n",
      "                     coef    std err          t      P>|t|      [0.025      0.975]\n",
      "----------------------------------------------------------------------------------\n",
      "const          -1660.4539    687.707     -2.414      0.023   -3069.159    -251.749\n",
      "High Temp (°F)    64.8743     11.164      5.811      0.000      42.005      87.743\n",
      "==============================================================================\n",
      "Omnibus:                        2.390   Durbin-Watson:                   1.331\n",
      "Prob(Omnibus):                  0.303   Jarque-Bera (JB):                2.100\n",
      "Skew:                          -0.616   Prob(JB):                        0.350\n",
      "Kurtosis:                       2.599   Cond. No.                         340.\n",
      "==============================================================================\n",
      "\n",
      "Notes:\n",
      "[1] Standard Errors assume that the covariance matrix of the errors is correctly specified.\n"
     ]
    }
   ],
   "source": [
    "bikecounts_df.corr()\n",
    "X = bikecounts_df[['High Temp (°F)']]\n",
    "y = bikecounts_df['Brooklyn Bridge']\n",
    "X = sm.add_constant(X)\n",
    "model = sm.OLS(y, X)\n",
    "results = model.fit()\n",
    "print(results.summary())"
   ]
  },
  {
   "cell_type": "markdown",
   "metadata": {},
   "source": [
    "## Analysis:\n",
    "Based on the r-squared value of 0.547, we can conclude that there is a positive relationship between cyclict crossing the Brooklyn Bridge and temperature.\n",
    "More cyclist cross the Brooklyn Bridge when the temperature is higher. \n",
    "A p-value of 0.023 is less than 0.05, is also statistical evidence of the relationship. "
   ]
  },
  {
   "cell_type": "markdown",
   "metadata": {},
   "source": [
    "## Question 2: Does the amount of precipitation affect the number of bike trips across the Brooklyn Bridge?"
   ]
  },
  {
   "cell_type": "markdown",
   "metadata": {},
   "source": [
    "Hypothesis: Lower Precipitation has a relationship with how many people cross Brooklyn Bridge per day\n",
    "\n",
    "Null Hypothesis: Precipitation has no association with how many people cross Brooklyn Bridge on bike\n",
    "\n",
    "Alternative Hypothesis: Precipitation correlates with how many people cross Brooklyn Bridge on bike"
   ]
  },
  {
   "cell_type": "code",
   "execution_count": 4,
   "metadata": {},
   "outputs": [],
   "source": [
    "#Dropping all other characters except numbers to change datatype from object to int\n",
    "import re\n",
    "pattern = '(\\S{0,4})'\n",
    "bikecounts_df['Precipitation'] = bikecounts_df['Precipitation'].str.extract(pattern, flags=re.I, expand=True)\n",
    "T_drop = bikecounts_df[bikecounts_df['Precipitation'] == 'T'].index\n",
    "bikecounts_df = bikecounts_df.drop(T_drop, axis=0)\n",
    "bikecounts_df = bikecounts_df.reset_index()"
   ]
  },
  {
   "cell_type": "code",
   "execution_count": 5,
   "metadata": {},
   "outputs": [
    {
     "data": {
      "text/plain": [
       "0       17\n",
       "0.09     3\n",
       "0.01     3\n",
       "0.15     1\n",
       "0.24     1\n",
       "0.47     1\n",
       "0.2      1\n",
       "0.05     1\n",
       "0.16     1\n",
       "Name: Precipitation, dtype: int64"
      ]
     },
     "execution_count": 5,
     "metadata": {},
     "output_type": "execute_result"
    }
   ],
   "source": [
    "# Checking that only numbers exist in data \n",
    "bikecounts_df['Precipitation'].value_counts()\n"
   ]
  },
  {
   "cell_type": "code",
   "execution_count": 6,
   "metadata": {},
   "outputs": [],
   "source": [
    "#Converting datatype to interger\n",
    "bikecounts_df['Precipitation'] = pd.to_numeric(bikecounts_df['Precipitation'])"
   ]
  },
  {
   "cell_type": "code",
   "execution_count": 7,
   "metadata": {},
   "outputs": [
    {
     "name": "stdout",
     "output_type": "stream",
     "text": [
      "                            OLS Regression Results                            \n",
      "==============================================================================\n",
      "Dep. Variable:        Brooklyn Bridge   R-squared:                       0.354\n",
      "Model:                            OLS   Adj. R-squared:                  0.330\n",
      "Method:                 Least Squares   F-statistic:                     14.78\n",
      "Date:                Tue, 05 Apr 2022   Prob (F-statistic):           0.000667\n",
      "Time:                        18:09:17   Log-Likelihood:                -234.75\n",
      "No. Observations:                  29   AIC:                             473.5\n",
      "Df Residuals:                      27   BIC:                             476.2\n",
      "Df Model:                           1                                         \n",
      "Covariance Type:            nonrobust                                         \n",
      "=================================================================================\n",
      "                    coef    std err          t      P>|t|      [0.025      0.975]\n",
      "---------------------------------------------------------------------------------\n",
      "const          2553.2525    172.385     14.811      0.000    2199.548    2906.957\n",
      "Precipitation -5688.1037   1479.500     -3.845      0.001   -8723.786   -2652.421\n",
      "==============================================================================\n",
      "Omnibus:                        3.226   Durbin-Watson:                   0.753\n",
      "Prob(Omnibus):                  0.199   Jarque-Bera (JB):                1.808\n",
      "Skew:                          -0.342   Prob(JB):                        0.405\n",
      "Kurtosis:                       1.985   Cond. No.                         9.72\n",
      "==============================================================================\n",
      "\n",
      "Notes:\n",
      "[1] Standard Errors assume that the covariance matrix of the errors is correctly specified.\n"
     ]
    }
   ],
   "source": [
    "#Running Regression Model\n",
    "bikecounts_df.corr()\n",
    "X = bikecounts_df[['Precipitation']]\n",
    "y = bikecounts_df['Brooklyn Bridge']\n",
    "X = sm.add_constant(X)\n",
    "model = sm.OLS(y, X)\n",
    "results = model.fit()\n",
    "print(results.summary())"
   ]
  },
  {
   "cell_type": "markdown",
   "metadata": {},
   "source": [
    "## Analysis:\n",
    "Based on the r-squared value of 0.354, we can conclude that there is a positive relationship between cyclict crossing the Brooklyn Bridge and precipitation.\n",
    "More cyclist cross the Brooklyn Bridge when the precipitation is higher. \n",
    "A p-value of 0.001 is less than 0.05, is also statistical evidence of the relationship. "
   ]
  },
  {
   "cell_type": "markdown",
   "metadata": {},
   "source": [
    "### Summary\n",
    "---Precipitation and Tempreature have a positive relationship between cyclist crossing the Brooklyn Bridge\n"
   ]
  }
 ],
 "metadata": {
  "kernelspec": {
   "display_name": "Python 3",
   "language": "python",
   "name": "python3"
  },
  "language_info": {
   "codemirror_mode": {
    "name": "ipython",
    "version": 3
   },
   "file_extension": ".py",
   "mimetype": "text/x-python",
   "name": "python",
   "nbconvert_exporter": "python",
   "pygments_lexer": "ipython3",
   "version": "3.8.8"
  }
 },
 "nbformat": 4,
 "nbformat_minor": 4
}
